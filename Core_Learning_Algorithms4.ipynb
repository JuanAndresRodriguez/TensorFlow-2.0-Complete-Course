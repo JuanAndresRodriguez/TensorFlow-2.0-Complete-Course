{
  "nbformat": 4,
  "nbformat_minor": 0,
  "metadata": {
    "colab": {
      "name": "Core Learning Algorithms4.ipynb",
      "provenance": [],
      "authorship_tag": "ABX9TyNGP4cinOMVqPRSlEYQuXw9",
      "include_colab_link": true
    },
    "kernelspec": {
      "name": "python3",
      "display_name": "Python 3"
    },
    "language_info": {
      "name": "python"
    }
  },
  "cells": [
    {
      "cell_type": "markdown",
      "metadata": {
        "id": "view-in-github",
        "colab_type": "text"
      },
      "source": [
        "<a href=\"https://colab.research.google.com/github/JuanAndresRodriguez/TensorFlow-2.0-Complete-Course/blob/main/Core_Learning_Algorithms4.ipynb\" target=\"_parent\"><img src=\"https://colab.research.google.com/assets/colab-badge.svg\" alt=\"Open In Colab\"/></a>"
      ]
    },
    {
      "cell_type": "markdown",
      "source": [
        "## Clustering"
      ],
      "metadata": {
        "id": "kd10ygnVKLnv"
      }
    },
    {
      "cell_type": "markdown",
      "source": [
        "Now that we've covered regression and classification it's time to talk about clustering data!\n",
        "\n",
        "Clustering is a Machine Learning technique that involves the grouping of data points. In theory, data points that are in the same group should have similar properties and/or features, while data points in different groups should have highly dissimilar properties and/or features. (https://towardsdatascience.com/the-5-clustering-algorithms-data-scientists-need-to-know-a36d136ef68)\n",
        "\n",
        "Unfortunalty there are issues with the current version of TensorFlow and the implementation for KMeans. This means we cannot use KMeans without writing the algorithm from scratch. We aren't quite at that level yet, so we'll just explain the basics of clustering for now.\n",
        "\n",
        "Basic Algorithm for K-Means.\n",
        "Step 1: Randomly pick K points to place K centroids\n",
        "Step 2: Assign all the data points to the centroids by distance. The closest centroid to a point is the one it is assigned to.\n",
        "Step 3: Average all the points belonging to each centroid to find the middle of those clusters (center of mass). Place the corresponding centroids into that position.\n",
        "Step 4: Reassign every point once again to the closest centroid.\n",
        "Step 5: Repeat steps 3-4 until no point changes which centroid it belongs to.\n",
        "Please refer to the video for an explanation of KMeans clustering."
      ],
      "metadata": {
        "id": "W9lix2DAaWB3"
      }
    },
    {
      "cell_type": "markdown",
      "source": [
        "## Hidden Markov Models\n",
        "\n",
        "\"The Hidden Markov Model is a finite set of states, each of which is associated with a (generally multidimensional) probability distribution []. Transitions among the states are governed by a set of probabilities called transition probabilities.\" (http://jedlik.phy.bme.hu/~gerjanos/HMM/node4.html)\n",
        "\n",
        "A hidden markov model works with probabilities to predict future events or states. In this section we will learn how to create a hidden markov model that can predict the weather.\n",
        "\n",
        "This section is based on the following TensorFlow tutorial. https://www.tensorflow.org/probability/api_docs/python/tfp/distributions/HiddenMarkovModel"
      ],
      "metadata": {
        "id": "LelmXPweagSz"
      }
    },
    {
      "cell_type": "code",
      "source": [
        "%tensorflow_version 2.x # verify we are working with tensroflow 2"
      ],
      "metadata": {
        "colab": {
          "base_uri": "https://localhost:8080/"
        },
        "id": "nrWW0cwFaeAQ",
        "outputId": "331e312a-8a4c-4220-b372-5859d4ef1c2d"
      },
      "execution_count": 1,
      "outputs": [
        {
          "output_type": "stream",
          "name": "stdout",
          "text": [
            "`%tensorflow_version` only switches the major version: 1.x or 2.x.\n",
            "You set: `2.x # verify we are working with tensroflow 2`. This will be interpreted as: `2.x`.\n",
            "\n",
            "\n",
            "TensorFlow 2.x selected.\n"
          ]
        }
      ]
    },
    {
      "cell_type": "code",
      "source": [
        "import tensorflow_probability as tfp # tensorflow module to work with probability disributions\n",
        "import tensorflow as tf"
      ],
      "metadata": {
        "id": "TjKc3fN-ce7w"
      },
      "execution_count": 2,
      "outputs": []
    },
    {
      "cell_type": "markdown",
      "source": [
        "Data\n",
        "Let's start by discussing the type of data we use when we work with a hidden markov model.\n",
        "\n",
        "In the previous sections we worked with large datasets of 100's of different entries. For a markov model we are only interested in probability distributions that have to do with states.\n",
        "\n",
        "We can find these probabilities from large datasets or may already have these values. We'll run through an example in a second that should clear some things up, but let's discuss the components of a markov model.\n",
        "\n",
        "States: In each markov model we have a finite set of states. These states could be something like \"warm\" and \"cold\" or \"high\" and \"low\" or even \"red\", \"green\" and \"blue\". These states are \"hidden\" within the model, which means we do not direcly observe them.\n",
        "\n",
        "Observations: Each state has a particular outcome or observation associated with it based on a probability distribution. An example of this is the following: On a hot day Tim has a 80% chance of being happy and a 20% chance of being sad.\n",
        "\n",
        "Transitions: Each state will have a probability defining the likelyhood of transitioning to a different state. An example is the following: a cold day has a 30% chance of being followed by a hot day and a 70% chance of being follwed by another cold day.\n",
        "\n",
        "To create a hidden markov model we need.\n",
        "\n",
        "States\n",
        "Observation Distribution\n",
        "Transition Distribution\n",
        "For our purpose we will assume we already have this information available as we attempt to predict the weather on a given day."
      ],
      "metadata": {
        "id": "AOcLXwqieoMM"
      }
    },
    {
      "cell_type": "markdown",
      "source": [
        "### Weather Model"
      ],
      "metadata": {
        "id": "s8ZSnOGBc8gp"
      }
    },
    {
      "cell_type": "markdown",
      "source": [
        "Taken direclty from the TensorFlow documentation (https://www.tensorflow.org/probability/api_docs/python/tfp/distributions/HiddenMarkovModel).\n",
        "\n",
        "We will model a simple weather system and try to predict the temperature on each day given the following information.\n",
        "\n",
        "1. Cold days are encoded by a 0 and hot days are encoded by a 1.\n",
        "2. The first day in our sequence has an 80% chance of being cold.\n",
        "3. A cold day has a 30% chance of being followed by a hot day.\n",
        "4. A hot day has a 20% chance of being followed by a cold day.\n",
        "5. On each day the temperature is normally distributed with mean and standard deviation 0 and 5 on a cold day and mean and standard deviation 15 and 10 on a hot day.\n",
        "\n",
        "If you're unfamiliar with standard deviation it can be put simply as the range of expected values.\n",
        "\n",
        "In this example, on a hot day the average temperature is 15 and ranges from 5 to 25.\n",
        "\n",
        "To model this in TensorFlow we will do the following."
      ],
      "metadata": {
        "id": "ewXrf56yeuzd"
      }
    },
    {
      "cell_type": "code",
      "source": [
        "tfd = tfp.distributions # shortcut\n",
        "initial_distribution = tfd.Categorical(probs=[0.8, 0.2]) # point 2) above\n",
        "transition_distribution = tfd.Categorical(probs=[ [0.7, 0.3],\n",
        "                                                 [0.2, 0.8]]) # point 3 and 4 and above \n",
        "observation_distribution = tfd.Normal(loc=[0., 15.], scale=[5., 10.]) # point 5\n",
        "\n",
        "# the loc argument represents the mean and the scale is standard deviation"
      ],
      "metadata": {
        "id": "Jfigmc55c5St"
      },
      "execution_count": 3,
      "outputs": []
    },
    {
      "cell_type": "markdown",
      "source": [
        "We now create distribution variables to model our system and it´s time to create the hidden markov model."
      ],
      "metadata": {
        "id": "6TZuJ9ingExK"
      }
    },
    {
      "cell_type": "code",
      "source": [
        "model = tfd.HiddenMarkovModel(\n",
        "    initial_distribution = initial_distribution,\n",
        "    transition_distribution = transition_distribution,\n",
        "    observation_distribution = observation_distribution,\n",
        "    num_steps = 7 # steps are the days to predict in this case.\n",
        ")"
      ],
      "metadata": {
        "id": "Lx78Rq2ygDR0"
      },
      "execution_count": 4,
      "outputs": []
    },
    {
      "cell_type": "code",
      "source": [
        "mean = model.mean()\n",
        "\n",
        "# due to the way TensorFlow works on a lower level we need to evaluate part of the graph from within a session to see the value of the tensor\n",
        "\n",
        "with tf.compat.v1.Session() as sess:\n",
        "  print(mean.numpy())"
      ],
      "metadata": {
        "colab": {
          "base_uri": "https://localhost:8080/"
        },
        "id": "fYc2aFDNgiKQ",
        "outputId": "7e627b9d-4136-4124-80d0-4bdfc5e15986"
      },
      "execution_count": 5,
      "outputs": [
        {
          "output_type": "stream",
          "name": "stdout",
          "text": [
            "[2.9999998 5.9999995 7.4999995 8.25      8.625001  8.812501  8.90625  ]\n"
          ]
        }
      ]
    }
  ]
}